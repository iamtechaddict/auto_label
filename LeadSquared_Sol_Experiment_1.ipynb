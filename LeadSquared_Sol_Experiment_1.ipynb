{
 "cells": [
  {
   "cell_type": "code",
   "execution_count": 40,
   "metadata": {},
   "outputs": [],
   "source": [
    "import nltk\n",
    "import re\n",
    "import string\n",
    "import numpy as np\n",
    "import matplotlib.pyplot as plt\n",
    "import pandas as pd\n",
    "from nltk.corpus import stopwords\n",
    "from nltk.tokenize import sent_tokenize\n",
    "from sentence_transformers import SentenceTransformer\n",
    "from sklearn.cluster import KMeans\n",
    "from sklearn import metrics\n",
    "from scipy.spatial.distance import cdist\n",
    "from nltk.tokenize import word_tokenize\n",
    "stop_words = stopwords.words('english')\n",
    "stop_words.extend(['ca','nt'])\n"
   ]
  },
  {
   "cell_type": "code",
   "execution_count": 166,
   "metadata": {},
   "outputs": [],
   "source": [
    "FILEURL = r\"C:\\Users\\imtechaddict\\Downloads\\Datafiniti_Amazon_Consumer_Reviews_of_Amazon_Products.csv\"\n",
    "# C:\\Users\\imtechaddict\\Downloads\\Datafiniti_Amazon_Consumer_Reviews_of_Amazon_Products.csv\n",
    "# C:\\Users\\imtechaddict\\Downloads\\Datafiniti_Amazon_Consumer_Reviews_of_Amazon_Products_May19 - Copy.csv\n",
    "COL_REVIEW_TEXT = 'reviews.text'\n",
    "\n",
    "file_data = pd.read_csv(FILEURL)\n",
    "reviews = file_data[COL_REVIEW_TEXT]\n"
   ]
  },
  {
   "cell_type": "code",
   "execution_count": 167,
   "metadata": {},
   "outputs": [],
   "source": [
    "splitted_reviews = []\n",
    "\n",
    "for each_reviews in reviews:\n",
    "    splitted_review = sent_tokenize(each_reviews)\n",
    "    for each_splitted_review in splitted_review:\n",
    "        splitted_reviews.append(each_splitted_review)\n"
   ]
  },
  {
   "cell_type": "code",
   "execution_count": 168,
   "metadata": {},
   "outputs": [
    {
     "name": "stdout",
     "output_type": "stream",
     "text": [
      "5000\n",
      "13168\n"
     ]
    }
   ],
   "source": [
    "print(len(reviews))\n",
    "print(len(splitted_reviews))"
   ]
  },
  {
   "cell_type": "markdown",
   "metadata": {},
   "source": [
    "# Using bert pretrained for transfer learning technique"
   ]
  },
  {
   "cell_type": "code",
   "execution_count": 169,
   "metadata": {},
   "outputs": [],
   "source": [
    "bert_encoder = SentenceTransformer('bert-base-nli-mean-tokens')\n",
    "reviews_embedding = bert_encoder.encode(reviews)"
   ]
  },
  {
   "cell_type": "code",
   "execution_count": 170,
   "metadata": {},
   "outputs": [
    {
     "name": "stdout",
     "output_type": "stream",
     "text": [
      "(5000, 768)\n"
     ]
    }
   ],
   "source": [
    "print(reviews_embedding.shape)"
   ]
  },
  {
   "cell_type": "markdown",
   "metadata": {},
   "source": [
    "# Clustering Feature based on the textual Similarity using Kmean \n",
    "\n"
   ]
  },
  {
   "cell_type": "code",
   "execution_count": 171,
   "metadata": {},
   "outputs": [],
   "source": [
    "cluster_inertia = []\n",
    "K = range(1, 10) # trying k value from a random range just to find the best K value\n",
    "X = reviews_embedding \n",
    "for k in K:\n",
    "    kmean_model = KMeans(n_clusters=k).fit(X)\n",
    "    cluster_inertia.append(kmean_model.inertia_)\n"
   ]
  },
  {
   "cell_type": "code",
   "execution_count": 172,
   "metadata": {},
   "outputs": [
    {
     "data": {
      "image/png": "[encoded data removed]",
      "text/plain": [
       "<Figure size 432x288 with 1 Axes>"
      ]
     },
     "metadata": {
      "needs_background": "light"
     },
     "output_type": "display_data"
    }
   ],
   "source": [
    "plt.plot(K, cluster_inertia)\n",
    "plt.xlabel('K')\n",
    "plt.ylabel('Cluster Inertia')\n",
    "plt.show()"
   ]
  },
  {
   "cell_type": "markdown",
   "metadata": {},
   "source": [
    "# Re Training K mean after choosing K value = 3\n"
   ]
  },
  {
   "cell_type": "code",
   "execution_count": 173,
   "metadata": {},
   "outputs": [],
   "source": [
    "K=3\n",
    "pred = KMeans(n_clusters=K).fit_predict(X)"
   ]
  },
  {
   "cell_type": "markdown",
   "metadata": {},
   "source": [
    "# Empirically  observing the results exported in csv format.\n"
   ]
  },
  {
   "cell_type": "code",
   "execution_count": 174,
   "metadata": {},
   "outputs": [],
   "source": [
    "sample = pd.DataFrame()\n",
    "sample[\"reviews\"] = reviews\n",
    "sample[\"cluster_id\"] = pred\n",
    "# sample.to_csv(r\"C:\\Users\\imtechaddict\\Downloads\\sample10.csv\")"
   ]
  },
  {
   "cell_type": "markdown",
   "metadata": {},
   "source": [
    "# Here begins the topic modeling for bi gram for each clusters"
   ]
  },
  {
   "cell_type": "code",
   "execution_count": 175,
   "metadata": {},
   "outputs": [],
   "source": [
    "def bigram_filter(bigram):\n",
    "    tag = nltk.pos_tag(bigram)\n",
    "    if tag[0][1] not in ['JJ', 'NN'] and tag[1][1] not in ['NN']:\n",
    "        return False\n",
    "    return True\n",
    "\n",
    "def clean_text(raw_text):\n",
    "    tokens = word_tokenize(raw_text)\n",
    "    # convert to lower case\n",
    "    tokens = [w.lower() for w in tokens]\n",
    "    table = str.maketrans('', '', string.punctuation)\n",
    "    stripped = [w.translate(table) for w in tokens]\n",
    "    words = [word for word in stripped if word.isalpha()]\n",
    "    words = [w for w in words if not w in stop_words]\n",
    "    clean_output = \" \".join(words)\n",
    "    return clean_output"
   ]
  },
  {
   "cell_type": "code",
   "execution_count": 176,
   "metadata": {},
   "outputs": [],
   "source": [
    "sample['clean_data']=sample['reviews'].apply(clean_text)"
   ]
  },
  {
   "cell_type": "code",
   "execution_count": 177,
   "metadata": {},
   "outputs": [
    {
     "data": {
      "text/html": [
       "<div>\n",
       "<style scoped>\n",
       "    .dataframe tbody tr th:only-of-type {\n",
       "        vertical-align: middle;\n",
       "    }\n",
       "\n",
       "    .dataframe tbody tr th {\n",
       "        vertical-align: top;\n",
       "    }\n",
       "\n",
       "    .dataframe thead th {\n",
       "        text-align: right;\n",
       "    }\n",
       "</style>\n",
       "<table border=\"1\" class=\"dataframe\">\n",
       "  <thead>\n",
       "    <tr style=\"text-align: right;\">\n",
       "      <th></th>\n",
       "      <th>reviews</th>\n",
       "      <th>cluster_id</th>\n",
       "      <th>clean_data</th>\n",
       "    </tr>\n",
       "  </thead>\n",
       "  <tbody>\n",
       "    <tr>\n",
       "      <th>0</th>\n",
       "      <td>I thought it would be as big as small paper bu...</td>\n",
       "      <td>2</td>\n",
       "      <td>thought would big small paper turn like palm t...</td>\n",
       "    </tr>\n",
       "    <tr>\n",
       "      <th>1</th>\n",
       "      <td>This kindle is light and easy to use especiall...</td>\n",
       "      <td>1</td>\n",
       "      <td>kindle light easy use especially beach</td>\n",
       "    </tr>\n",
       "    <tr>\n",
       "      <th>2</th>\n",
       "      <td>Didnt know how much i'd use a kindle so went f...</td>\n",
       "      <td>2</td>\n",
       "      <td>didnt know much use kindle went lower end im h...</td>\n",
       "    </tr>\n",
       "    <tr>\n",
       "      <th>3</th>\n",
       "      <td>I am 100 happy with my purchase. I caught it o...</td>\n",
       "      <td>2</td>\n",
       "      <td>happy purchase caught sale really good price n...</td>\n",
       "    </tr>\n",
       "    <tr>\n",
       "      <th>4</th>\n",
       "      <td>Solid entry level Kindle. Great for kids. Gift...</td>\n",
       "      <td>0</td>\n",
       "      <td>solid entry level kindle great kids gifted kid...</td>\n",
       "    </tr>\n",
       "    <tr>\n",
       "      <th>...</th>\n",
       "      <td>...</td>\n",
       "      <td>...</td>\n",
       "      <td>...</td>\n",
       "    </tr>\n",
       "    <tr>\n",
       "      <th>4995</th>\n",
       "      <td>This is a great tablet for the price. Amazon i...</td>\n",
       "      <td>1</td>\n",
       "      <td>great tablet price amazon good job</td>\n",
       "    </tr>\n",
       "    <tr>\n",
       "      <th>4996</th>\n",
       "      <td>This tablet is the perfect size and so easy to...</td>\n",
       "      <td>1</td>\n",
       "      <td>tablet perfect size easy use read play games p...</td>\n",
       "    </tr>\n",
       "    <tr>\n",
       "      <th>4997</th>\n",
       "      <td>Purchased this for my son. Has room to upgrade...</td>\n",
       "      <td>2</td>\n",
       "      <td>purchased son room upgrade memory allow books ...</td>\n",
       "    </tr>\n",
       "    <tr>\n",
       "      <th>4998</th>\n",
       "      <td>I had some thoughts about getting this for a 5...</td>\n",
       "      <td>0</td>\n",
       "      <td>thoughts getting year old get screen protector...</td>\n",
       "    </tr>\n",
       "    <tr>\n",
       "      <th>4999</th>\n",
       "      <td>this is a steal, have 8 gb model as well.This ...</td>\n",
       "      <td>2</td>\n",
       "      <td>steal gb model wellthis punch</td>\n",
       "    </tr>\n",
       "  </tbody>\n",
       "</table>\n",
       "<p>5000 rows × 3 columns</p>\n",
       "</div>"
      ],
      "text/plain": [
       "                                                reviews  cluster_id  \\\n",
       "0     I thought it would be as big as small paper bu...           2   \n",
       "1     This kindle is light and easy to use especiall...           1   \n",
       "2     Didnt know how much i'd use a kindle so went f...           2   \n",
       "3     I am 100 happy with my purchase. I caught it o...           2   \n",
       "4     Solid entry level Kindle. Great for kids. Gift...           0   \n",
       "...                                                 ...         ...   \n",
       "4995  This is a great tablet for the price. Amazon i...           1   \n",
       "4996  This tablet is the perfect size and so easy to...           1   \n",
       "4997  Purchased this for my son. Has room to upgrade...           2   \n",
       "4998  I had some thoughts about getting this for a 5...           0   \n",
       "4999  this is a steal, have 8 gb model as well.This ...           2   \n",
       "\n",
       "                                             clean_data  \n",
       "0     thought would big small paper turn like palm t...  \n",
       "1                kindle light easy use especially beach  \n",
       "2     didnt know much use kindle went lower end im h...  \n",
       "3     happy purchase caught sale really good price n...  \n",
       "4     solid entry level kindle great kids gifted kid...  \n",
       "...                                                 ...  \n",
       "4995                 great tablet price amazon good job  \n",
       "4996  tablet perfect size easy use read play games p...  \n",
       "4997  purchased son room upgrade memory allow books ...  \n",
       "4998  thoughts getting year old get screen protector...  \n",
       "4999                      steal gb model wellthis punch  \n",
       "\n",
       "[5000 rows x 3 columns]"
      ]
     },
     "execution_count": 177,
     "metadata": {},
     "output_type": "execute_result"
    }
   ],
   "source": [
    "sample"
   ]
  },
  {
   "cell_type": "code",
   "execution_count": 178,
   "metadata": {},
   "outputs": [
    {
     "name": "stdout",
     "output_type": "stream",
     "text": [
      "-----------\n",
      "Cluster 0\n",
      "-----------\n",
      "parental  controls\n",
      "user  friendly\n",
      "battery  life\n",
      "highly  recommend\n",
      "every  day\n",
      "sound  quality\n",
      "yr  old\n",
      "christmas  present\n",
      "watch  movies\n",
      "fire  hd\n",
      "-----------\n",
      "Cluster 1\n",
      "-----------\n",
      "user  friendly\n",
      "battery  life\n",
      "recommend  anyone\n",
      "smart  home\n",
      "highly  recommend\n",
      "definitely  recommend\n",
      "would  definitely\n",
      "echo  plus\n",
      "best  buy\n",
      "echo  show\n",
      "-----------\n",
      "Cluster 2\n",
      "-----------\n",
      "black  friday\n",
      "sd  card\n",
      "battery  life\n",
      "page  turn\n",
      "year  old\n",
      "google  play\n",
      "fire  hd\n",
      "best  buy\n",
      "app  store\n",
      "sound  quality\n"
     ]
    }
   ],
   "source": [
    "# bigram_measures = nltk.collocations.BigramAssocMeasures()\n",
    "stop_word_list = set(stopwords.words('english'))\n",
    "for i in range(K):\n",
    "    each_cluster_data = sample[sample[\"cluster_id\"] == i]\n",
    "    bigram_measures = nltk.collocations.BigramAssocMeasures()\n",
    "    clean_reviews = each_cluster_data[\"clean_data\"]\n",
    "    finder = nltk.collocations.BigramCollocationFinder.from_documents([comment.split() for comment in clean_reviews])\n",
    "    finder.apply_freq_filter(15)\n",
    "    bigram_scores = finder.score_ngrams(bigram_measures.pmi)\n",
    "    print(\"-----------\")\n",
    "    print(\"Cluster\",i)\n",
    "    print(\"-----------\")\n",
    "    for each_bigram in bigram_scores[:10]:\n",
    "        print(each_bigram[0][0], \"\",each_bigram[0][1])\n",
    "\n"
   ]
  },
  {
   "cell_type": "markdown",
   "metadata": {},
   "source": [
    "#  Topic Modeling without clustering "
   ]
  },
  {
   "cell_type": "code",
   "execution_count": 179,
   "metadata": {},
   "outputs": [
    {
     "name": "stdout",
     "output_type": "stream",
     "text": [
      "battery  life\n",
      "year  old\n",
      "smart  home\n",
      "google  play\n",
      "fire  hd\n",
      "best  buy\n",
      "sound  quality\n",
      "would  recommend\n",
      "echo  plus\n",
      "echo  dot\n",
      "amazon  prime\n",
      "echo  show\n",
      "works  well\n",
      "play  games\n",
      "daughter  loves\n"
     ]
    }
   ],
   "source": [
    "bigram_measures = nltk.collocations.BigramAssocMeasures()\n",
    "clean_reviews = sample[\"clean_data\"]\n",
    "finder = nltk.collocations.BigramCollocationFinder.from_documents([comment.split() for comment in clean_reviews])\n",
    "finder.apply_freq_filter(50)\n",
    "bigram_scores = finder.score_ngrams(bigram_measures.pmi)\n",
    "for each_bigram in bigram_scores[:15]:\n",
    "    print(each_bigram[0][0], \"\",each_bigram[0][1])\n"
   ]
  }
 ],
 "metadata": {
  "kernelspec": {
   "display_name": "Python [conda env:tensorflow_gpuenv]",
   "language": "python",
   "name": "conda-env-tensorflow_gpuenv-py"
  },
  "language_info": {
   "codemirror_mode": {
    "name": "ipython",
    "version": 3
   },
   "file_extension": ".py",
   "mimetype": "text/x-python",
   "name": "python",
   "nbconvert_exporter": "python",
   "pygments_lexer": "ipython3",
   "version": "3.7.7"
  }
 },
 "nbformat": 4,
 "nbformat_minor": 4
}
